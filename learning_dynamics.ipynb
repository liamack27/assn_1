{
  "nbformat": 4,
  "nbformat_minor": 0,
  "metadata": {
    "accelerator": "GPU",
    "celltoolbar": "Tags",
    "colab": {
      "name": "learning_dynamics.ipynb",
      "provenance": [],
      "collapsed_sections": []
    },
    "kernelspec": {
      "display_name": "Python 3",
      "language": "python",
      "name": "python3"
    },
    "language_info": {
      "codemirror_mode": {
        "name": "ipython",
        "version": 3
      },
      "file_extension": ".py",
      "mimetype": "text/x-python",
      "name": "python",
      "nbconvert_exporter": "python",
      "pygments_lexer": "ipython3",
      "version": "3.8.5"
    }
  },
  "cells": [
    {
      "cell_type": "markdown",
      "metadata": {
        "id": "7kiuxBR04DcZ"
      },
      "source": [
        "# Dynamics Regression and Graphical Analysis\n"
      ]
    },
    {
      "cell_type": "markdown",
      "metadata": {
        "id": "jpqbPGN731Z8"
      },
      "source": [
        "## Notebook Setup \n",
        "The following cell will checkout the underactuated repository, and set up the path (only if necessary).\n",
        "- On Google's Colaboratory, this **will take approximately two minutes** on the first time it runs (to provision the machine), but should only need to reinstall once every 12 hours.  Colab will ask you to \"Reset all runtimes\"; say no to save yourself the reinstall.\n",
        "- On Binder, the machines should already be provisioned by the time you can run this; it should return (almost) instantly.\n",
        "\n",
        "More details are available [here](http://underactuated.mit.edu/drake.html)."
      ]
    },
    {
      "cell_type": "code",
      "metadata": {
        "id": "Xvu5-Bm531Z-",
        "colab": {
          "base_uri": "https://localhost:8080/"
        },
        "outputId": "8b02ec7d-4696-48f9-bf35-6c8bcb6829bb"
      },
      "source": [
        "import importlib\n",
        "import os, sys\n",
        "from urllib.request import urlretrieve\n",
        "\n",
        "# Install drake (and underactuated).\n",
        "if 'google.colab' in sys.modules and importlib.util.find_spec('underactuated') is None:\n",
        "    urlretrieve(f\"http://underactuated.csail.mit.edu/scripts/setup/setup_underactuated_colab.py\",\n",
        "                \"setup_underactuated_colab.py\")\n",
        "    from setup_underactuated_colab import setup_underactuated\n",
        "    setup_underactuated(underactuated_sha='1dca1b915977aeec9f327d61aaeac4cfb9c6b408', drake_version='0.25.0', drake_build='releases')\n",
        "\n",
        "server_args = []\n",
        "if 'google.colab' in sys.modules:\n",
        "  server_args = ['--ngrok_http_tunnel']\n",
        "\n",
        "# Setup matplotlib.  \n",
        "from IPython import get_ipython\n",
        "if get_ipython() is not None: get_ipython().run_line_magic(\"matplotlib\", \"inline\")\n",
        "\n",
        "# python libraries\n",
        "import numpy as np\n",
        "import torch\n",
        "from torch import nn\n",
        "import matplotlib.pyplot as plt\n",
        "from IPython.display import HTML, display\n",
        "\n",
        "# underactuated imports\n",
        "from underactuated import plot_2d_phase_portrait"
      ],
      "execution_count": 1,
      "outputs": [
        {
          "output_type": "stream",
          "text": [
            "Cloning into '/opt/underactuated'...\n",
            "\n",
            "HEAD is now at 1dca1b9 test hotfix for python3.7 on colab\n",
            "\n",
            "\n",
            "WARNING: apt does not have a stable CLI interface. Use with caution in scripts.\n",
            "\n",
            "\n"
          ],
          "name": "stdout"
        }
      ]
    },
    {
      "cell_type": "markdown",
      "metadata": {
        "id": "1fjIsN4431aA"
      },
      "source": [
        "## Problem Description\n",
        "In this problem you will implement a simple neural network in pytorch to model the dynamics of the damped pendulum seen in class from data. At the end of the notebook, you will perform a graphical analysis and answer a few questions about the system.\n",
        "\n",
        "**These are the main steps of the exercise:**\n",
        "1. Implement the network architecture in pytorch\n",
        "2. Perform a graphical analysis of the dynamics"
      ]
    },
    {
      "cell_type": "markdown",
      "metadata": {
        "id": "5hNO98ajN_z1"
      },
      "source": [
        "## Sampling measurements\n",
        "In class, we derived the dynamics for the damped pendulum system analytically:\n",
        "\n",
        "> $b\\dot\\theta = u_0 - mgl\\sin\\theta$\n",
        "\n",
        "In this problem, we pretend we don't know the relationship $\\dot \\theta = f(\\theta)$ and would like to learn it from $(\\theta, \\dot \\theta)$ data measurements. That is, we'd like to train a neural network $NN(\\theta) \\approx f(\\theta) = \\dot \\theta$.\n",
        "\n",
        "In the cell below, we assume a pendulum with $l = 1$ and $m = 1$ for simplicity. Gravity is $g = 9.81$, and we assume 0 torque. We generate 10000 evenly spaced samples from the ground truth equations, and then sample 100 examples and add some random noise to \"simulate\" taking 100 measurements. The data we're trying to fit is plotted below.\n"
      ]
    },
    {
      "cell_type": "markdown",
      "metadata": {
        "id": "Akkyz7AzRTta"
      },
      "source": [
        "### Pytorch tip\n",
        "\n",
        "One tip you'll find useful when debugging is to fix the random seed generators for your machine learning library (in our case pytorch), and potentially for numpy as well. This allows us to ensure that our neural network will be initialized with the same values each time we run our code, and it will allow us to see the effects of our changes and make things easier to debug. We can fix the random generator seed as seen below."
      ]
    },
    {
      "cell_type": "code",
      "metadata": {
        "id": "fuUod6sRZG68",
        "colab": {
          "base_uri": "https://localhost:8080/",
          "height": 296
        },
        "outputId": "ece867c1-3594-414d-dfa5-805d00957aed"
      },
      "source": [
        "np.random.seed(5) # you can pick any integer for different seeds\n",
        "torch.manual_seed(5)\n",
        "\n",
        "# System parameters. Feel free to play with these, but use\n",
        "# the original set for the autograder!\n",
        "m = 1\n",
        "l = 1\n",
        "g = 9.81\n",
        "u = 0\n",
        "\n",
        "def generate_measurements():\n",
        "  # create ground truth data points\n",
        "  theta = torch.unsqueeze(torch.linspace(-2*np.pi, 2*np.pi, 10000), dim=1)\n",
        "\n",
        "  # subsample 100 ground truth data points and add noise\n",
        "  idxs = np.random.choice(10000, 100)\n",
        "  theta = theta[idxs]\n",
        "  theta_dot = u - m*g*l*torch.sin(theta) + 1.5*torch.rand(theta.size()) - 1.5*torch.rand(theta.size())\n",
        "\n",
        "  return theta, theta_dot\n",
        "\n",
        "# plot sampled measurements\n",
        "theta, theta_dot = generate_measurements()\n",
        "plt.scatter(theta, theta_dot, s=5)\n",
        "plt.xlabel('theta')\n",
        "plt.ylabel('theta_dot')"
      ],
      "execution_count": 2,
      "outputs": [
        {
          "output_type": "execute_result",
          "data": {
            "text/plain": [
              "Text(0, 0.5, 'theta_dot')"
            ]
          },
          "metadata": {
            "tags": []
          },
          "execution_count": 2
        },
        {
          "output_type": "display_data",
          "data": {
            "image/png": "[encoded data removed]",
            "text/plain": [
              "<Figure size 432x288 with 1 Axes>"
            ]
          },
          "metadata": {
            "tags": [],
            "needs_background": "light"
          }
        }
      ]
    },
    {
      "cell_type": "markdown",
      "metadata": {
        "id": "4N_XNXq0QveP"
      },
      "source": [
        "## Defining our Network"
      ]
    },
    {
      "cell_type": "markdown",
      "metadata": {
        "id": "Vz3sl9MCSCAd"
      },
      "source": [
        "We will now implement our neural network in pytorch. Pytorch allows us to define a model class as a subclass of `nn.Module` (checkout the [pytorch docs](https://pytorch.org/docs/stable/index.html) for more information). We define our network architecture at initialization, and then we define a `forward` method that defines our forward pass. This method takes in the inputs to our neural network, and returns the outputs. \n",
        "\n",
        "We've provided an example model that shows you how to stack two linear layers with a Leaky ReLU nonlinearity in between them. Your job is to define `self.model`.\n",
        "\n",
        "- Layer 1: linear layer with 1 input and 200 outputs\n",
        "- Leaky ReLU nonlinearity\n",
        "- Layer 2: linear layer with 200 inputs and 100 outputs\n",
        "- Leaky ReLU nonlinearity\n",
        "- Layer 3: linear layer with 100 inputs and 1 output"
      ]
    },
    {
      "cell_type": "code",
      "metadata": {
        "id": "w4didPA2EDhN"
      },
      "source": [
        "class Network(nn.Module):\n",
        "  def __init__(self):\n",
        "    super(Network, self).__init__()\n",
        "\n",
        "    # Example model\n",
        "    self.example_model = nn.Sequential(\n",
        "        torch.nn.Linear(1, 50),\n",
        "        torch.nn.ReLU(),\n",
        "        torch.nn.Linear(50, 1)\n",
        "    )\n",
        "    \n",
        "    ####################################\n",
        "    # Define your model\n",
        "\n",
        "    self.model = nn.Sequential(\n",
        "        torch.nn.Linear(1, 200),\n",
        "        torch.nn.ReLU(),\n",
        "        torch.nn.Linear(200, 100),\n",
        "        torch.nn.ReLU(),\n",
        "        torch.nn.Linear(100, 1)\n",
        "        # YOUR CODE HERE\n",
        "    )\n",
        "    \n",
        "    ####################################\n",
        "\n",
        "  def forward(self, theta):\n",
        "    theta_dot_hat = self.model(theta)\n",
        "    return theta_dot_hat"
      ],
      "execution_count": 3,
      "outputs": []
    },
    {
      "cell_type": "markdown",
      "metadata": {
        "id": "v5soWOWETglM"
      },
      "source": [
        "## Training our Network\n",
        "\n",
        "Now we can instantiate a network, an optimizing algorithm that will update the weights of our network, and a loss function. We will be using a mean-squared error loss for this problem. We are going to use the following optimizer and loss function:\n",
        "\n",
        "- Optimizer: [Adam optimizer](https://pytorch.org/docs/stable/optim.html)\n",
        "- Loss function: [Mean-squared Error loss](https://pytorch.org/docs/stable/generated/torch.nn.MSELoss.html)\n",
        "\n",
        "In the cell below, your job is to instantiate a mean-squared error loss, and an Adam optimizer."
      ]
    },
    {
      "cell_type": "markdown",
      "metadata": {
        "id": "uMfELFEPVImq"
      },
      "source": [
        "We then iteratively update the parameters of our network. This is done by feeding in the theta values we measured, and computing a loss using the outputs (the networks \"guess\" for the theta dot outputs). If our predicted theta dots are far from the theta dots we measured, then our loss will be high and vice versa. We use the loss to call `loss.backward()`, pytorch runs [backpropagation](https://en.wikipedia.org/wiki/Backpropagation) to update the network weights we passed into the Adam optimizer at initialization for us."
      ]
    },
    {
      "cell_type": "markdown",
      "metadata": {
        "id": "cyiw_7dVyeUZ"
      },
      "source": [
        "### Pytorch tip\n",
        "\n",
        "Note that we zero out our gradients before we step through our optimizer at each iteration. We need to do this because pytorch accumulates gradients after each pass. This is used to train other types of networks like RNN's, but for our purposes here we want just the new gradients at each iteration."
      ]
    },
    {
      "cell_type": "code",
      "metadata": {
        "id": "EufqWTI0FjYe",
        "colab": {
          "base_uri": "https://localhost:8080/"
        },
        "outputId": "bbe2ed97-8562-4247-c7b6-6c2cfc86129c"
      },
      "source": [
        "np.random.seed(5) # you can pick any integer for different seeds\n",
        "torch.manual_seed(5)\n",
        "\n",
        "# Feel free to play with these, but keep the original values for the autograder.\n",
        "iterations = 300 # number of optimization iterations\n",
        "learning_rate = 0.05 # you do not need to tune this!\n",
        "\n",
        "# Generate measurements\n",
        "theta, theta_dot = generate_measurements()\n",
        "\n",
        "# Initialize our network, optimizer, and loss function\n",
        "NN = Network()\n",
        "\n",
        "####################################\n",
        "# Instantiate a mean-squared error loss\n",
        "# and an Adam optimizer. You can access\n",
        "# your networks parameters with NN.parameters().\n",
        "# You will need to pass this in as an\n",
        "# argument when instantiating the optimizer.\n",
        "\n",
        "# YOUR CODE HERE\n",
        "optimizer = torch.optim.Adam(NN.parameters(), lr=learning_rate)\n",
        "L = torch.nn.MSELoss()\n",
        "\n",
        "####################################\n",
        "\n",
        "final_loss = 0.0\n",
        "if optimizer is not None and L is not None:\n",
        "  for t in range(iterations):\n",
        "\n",
        "    theta_dot_hat = NN(theta) # pass data through your neural net, and generate x_ddot predictions\n",
        "\n",
        "    loss = L(theta_dot_hat, theta_dot) # compare your predictions with the measured x_ddot values from your data set\n",
        "\n",
        "    print('Loss @ time {}: {}'.format(t, loss.item()))\n",
        "\n",
        "    optimizer.zero_grad() # clear gradients from the last iteration, before generating gradients for this iteration\n",
        "    loss.backward() # run backpropagation, and compute gradients\n",
        "    optimizer.step() # apply gradients to your network weights\n",
        "\n",
        "  final_loss = loss.item()"
      ],
      "execution_count": 22,
      "outputs": [
        {
          "output_type": "stream",
          "text": [
            "Loss @ time 0: 48.07992172241211\n",
            "Loss @ time 1: 207.51513671875\n",
            "Loss @ time 2: 231.2499237060547\n",
            "Loss @ time 3: 129.2787322998047\n",
            "Loss @ time 4: 129.3562469482422\n",
            "Loss @ time 5: 81.83065795898438\n",
            "Loss @ time 6: 49.85768508911133\n",
            "Loss @ time 7: 43.55738830566406\n",
            "Loss @ time 8: 45.533470153808594\n",
            "Loss @ time 9: 47.52522277832031\n",
            "Loss @ time 10: 48.8486328125\n",
            "Loss @ time 11: 49.33253860473633\n",
            "Loss @ time 12: 48.2778434753418\n",
            "Loss @ time 13: 47.41399002075195\n",
            "Loss @ time 14: 46.687618255615234\n",
            "Loss @ time 15: 44.33909606933594\n",
            "Loss @ time 16: 42.725059509277344\n",
            "Loss @ time 17: 41.46963882446289\n",
            "Loss @ time 18: 40.27759552001953\n",
            "Loss @ time 19: 39.193721771240234\n",
            "Loss @ time 20: 38.262474060058594\n",
            "Loss @ time 21: 37.450923919677734\n",
            "Loss @ time 22: 36.6458625793457\n",
            "Loss @ time 23: 35.617977142333984\n",
            "Loss @ time 24: 34.304466247558594\n",
            "Loss @ time 25: 33.368167877197266\n",
            "Loss @ time 26: 32.8609504699707\n",
            "Loss @ time 27: 32.230567932128906\n",
            "Loss @ time 28: 30.979816436767578\n",
            "Loss @ time 29: 30.06073760986328\n",
            "Loss @ time 30: 29.48105239868164\n",
            "Loss @ time 31: 28.50572967529297\n",
            "Loss @ time 32: 28.277246475219727\n",
            "Loss @ time 33: 27.081331253051758\n",
            "Loss @ time 34: 26.793508529663086\n",
            "Loss @ time 35: 25.998790740966797\n",
            "Loss @ time 36: 25.814170837402344\n",
            "Loss @ time 37: 25.218320846557617\n",
            "Loss @ time 38: 24.633451461791992\n",
            "Loss @ time 39: 24.496347427368164\n",
            "Loss @ time 40: 23.737634658813477\n",
            "Loss @ time 41: 23.28948211669922\n",
            "Loss @ time 42: 22.741270065307617\n",
            "Loss @ time 43: 21.912126541137695\n",
            "Loss @ time 44: 21.566312789916992\n",
            "Loss @ time 45: 20.856874465942383\n",
            "Loss @ time 46: 19.871490478515625\n",
            "Loss @ time 47: 19.269624710083008\n",
            "Loss @ time 48: 18.591537475585938\n",
            "Loss @ time 49: 17.504789352416992\n",
            "Loss @ time 50: 16.534467697143555\n",
            "Loss @ time 51: 15.838187217712402\n",
            "Loss @ time 52: 15.148265838623047\n",
            "Loss @ time 53: 14.247882843017578\n",
            "Loss @ time 54: 12.50963020324707\n",
            "Loss @ time 55: 10.455981254577637\n",
            "Loss @ time 56: 8.323159217834473\n",
            "Loss @ time 57: 7.899564743041992\n",
            "Loss @ time 58: 6.996045112609863\n",
            "Loss @ time 59: 5.706342697143555\n",
            "Loss @ time 60: 5.410121917724609\n",
            "Loss @ time 61: 4.906597137451172\n",
            "Loss @ time 62: 4.6415019035339355\n",
            "Loss @ time 63: 3.976376533508301\n",
            "Loss @ time 64: 4.100494861602783\n",
            "Loss @ time 65: 4.370097637176514\n",
            "Loss @ time 66: 3.95289945602417\n",
            "Loss @ time 67: 3.9730639457702637\n",
            "Loss @ time 68: 3.7215216159820557\n",
            "Loss @ time 69: 3.301166296005249\n",
            "Loss @ time 70: 3.5564026832580566\n",
            "Loss @ time 71: 3.502455234527588\n",
            "Loss @ time 72: 3.162536382675171\n",
            "Loss @ time 73: 3.286728620529175\n",
            "Loss @ time 74: 3.115156888961792\n",
            "Loss @ time 75: 2.8483147621154785\n",
            "Loss @ time 76: 2.982907772064209\n",
            "Loss @ time 77: 2.8991928100585938\n",
            "Loss @ time 78: 2.7936577796936035\n",
            "Loss @ time 79: 2.7098147869110107\n",
            "Loss @ time 80: 2.680602788925171\n",
            "Loss @ time 81: 2.6518290042877197\n",
            "Loss @ time 82: 2.435365915298462\n",
            "Loss @ time 83: 2.468884229660034\n",
            "Loss @ time 84: 2.3536300659179688\n",
            "Loss @ time 85: 2.2005960941314697\n",
            "Loss @ time 86: 2.206641674041748\n",
            "Loss @ time 87: 2.1253507137298584\n",
            "Loss @ time 88: 2.035125494003296\n",
            "Loss @ time 89: 1.9497840404510498\n",
            "Loss @ time 90: 1.8871638774871826\n",
            "Loss @ time 91: 1.769313931465149\n",
            "Loss @ time 92: 1.6789004802703857\n",
            "Loss @ time 93: 1.8934636116027832\n",
            "Loss @ time 94: 1.9773029088974\n",
            "Loss @ time 95: 1.5245765447616577\n",
            "Loss @ time 96: 1.3589754104614258\n",
            "Loss @ time 97: 1.5283046960830688\n",
            "Loss @ time 98: 1.3611842393875122\n",
            "Loss @ time 99: 1.1140257120132446\n",
            "Loss @ time 100: 1.1561819314956665\n",
            "Loss @ time 101: 1.1087325811386108\n",
            "Loss @ time 102: 0.8908539414405823\n",
            "Loss @ time 103: 0.8619107007980347\n",
            "Loss @ time 104: 1.0296869277954102\n",
            "Loss @ time 105: 1.0972585678100586\n",
            "Loss @ time 106: 1.1695773601531982\n",
            "Loss @ time 107: 1.0137476921081543\n",
            "Loss @ time 108: 0.748603343963623\n",
            "Loss @ time 109: 0.634906530380249\n",
            "Loss @ time 110: 0.7914485931396484\n",
            "Loss @ time 111: 0.9118276834487915\n",
            "Loss @ time 112: 0.6753907799720764\n",
            "Loss @ time 113: 0.47616350650787354\n",
            "Loss @ time 114: 0.6073057651519775\n",
            "Loss @ time 115: 0.7622656226158142\n",
            "Loss @ time 116: 0.6217954158782959\n",
            "Loss @ time 117: 0.4268793761730194\n",
            "Loss @ time 118: 0.48835545778274536\n",
            "Loss @ time 119: 0.6239680647850037\n",
            "Loss @ time 120: 0.5674140453338623\n",
            "Loss @ time 121: 0.4381083548069\n",
            "Loss @ time 122: 0.3962900936603546\n",
            "Loss @ time 123: 0.44542816281318665\n",
            "Loss @ time 124: 0.474272757768631\n",
            "Loss @ time 125: 0.45026230812072754\n",
            "Loss @ time 126: 0.4015516936779022\n",
            "Loss @ time 127: 0.3659248650074005\n",
            "Loss @ time 128: 0.371724396944046\n",
            "Loss @ time 129: 0.40916168689727783\n",
            "Loss @ time 130: 0.416513592004776\n",
            "Loss @ time 131: 0.3695668876171112\n",
            "Loss @ time 132: 0.3270534574985504\n",
            "Loss @ time 133: 0.3336675763130188\n",
            "Loss @ time 134: 0.3715659976005554\n",
            "Loss @ time 135: 0.38315096497535706\n",
            "Loss @ time 136: 0.3577611446380615\n",
            "Loss @ time 137: 0.3242567777633667\n",
            "Loss @ time 138: 0.3113018274307251\n",
            "Loss @ time 139: 0.3160054385662079\n",
            "Loss @ time 140: 0.3265567719936371\n",
            "Loss @ time 141: 0.3315204679965973\n",
            "Loss @ time 142: 0.3284114897251129\n",
            "Loss @ time 143: 0.3245287835597992\n",
            "Loss @ time 144: 0.31851670145988464\n",
            "Loss @ time 145: 0.3116823434829712\n",
            "Loss @ time 146: 0.30273833870887756\n",
            "Loss @ time 147: 0.2950281798839569\n",
            "Loss @ time 148: 0.2924900949001312\n",
            "Loss @ time 149: 0.2929607331752777\n",
            "Loss @ time 150: 0.2980494201183319\n",
            "Loss @ time 151: 0.3044225871562958\n",
            "Loss @ time 152: 0.3118465542793274\n",
            "Loss @ time 153: 0.3238529860973358\n",
            "Loss @ time 154: 0.34673815965652466\n",
            "Loss @ time 155: 0.3972453773021698\n",
            "Loss @ time 156: 0.4807303547859192\n",
            "Loss @ time 157: 0.6151645183563232\n",
            "Loss @ time 158: 0.7202892899513245\n",
            "Loss @ time 159: 0.5991796255111694\n",
            "Loss @ time 160: 0.5123622417449951\n",
            "Loss @ time 161: 0.5399084091186523\n",
            "Loss @ time 162: 0.577233612537384\n",
            "Loss @ time 163: 0.5083101391792297\n",
            "Loss @ time 164: 0.38011565804481506\n",
            "Loss @ time 165: 0.292464017868042\n",
            "Loss @ time 166: 0.3469540774822235\n",
            "Loss @ time 167: 0.4566880762577057\n",
            "Loss @ time 168: 0.5194643139839172\n",
            "Loss @ time 169: 0.48100146651268005\n",
            "Loss @ time 170: 0.3832167088985443\n",
            "Loss @ time 171: 0.3236876428127289\n",
            "Loss @ time 172: 0.33810898661613464\n",
            "Loss @ time 173: 0.3769727051258087\n",
            "Loss @ time 174: 0.37850627303123474\n",
            "Loss @ time 175: 0.34420645236968994\n",
            "Loss @ time 176: 0.3209267556667328\n",
            "Loss @ time 177: 0.33734047412872314\n",
            "Loss @ time 178: 0.36811429262161255\n",
            "Loss @ time 179: 0.37141531705856323\n",
            "Loss @ time 180: 0.329549640417099\n",
            "Loss @ time 181: 0.2869223654270172\n",
            "Loss @ time 182: 0.2813197374343872\n",
            "Loss @ time 183: 0.3025343120098114\n",
            "Loss @ time 184: 0.32281383872032166\n",
            "Loss @ time 185: 0.3167608976364136\n",
            "Loss @ time 186: 0.2982857823371887\n",
            "Loss @ time 187: 0.28621330857276917\n",
            "Loss @ time 188: 0.29140493273735046\n",
            "Loss @ time 189: 0.3102850615978241\n",
            "Loss @ time 190: 0.31903910636901855\n",
            "Loss @ time 191: 0.3182360529899597\n",
            "Loss @ time 192: 0.3070666193962097\n",
            "Loss @ time 193: 0.30171269178390503\n",
            "Loss @ time 194: 0.30635878443717957\n",
            "Loss @ time 195: 0.31963905692100525\n",
            "Loss @ time 196: 0.335356742143631\n",
            "Loss @ time 197: 0.34471237659454346\n",
            "Loss @ time 198: 0.35679885745048523\n",
            "Loss @ time 199: 0.3803479075431824\n",
            "Loss @ time 200: 0.42256736755371094\n",
            "Loss @ time 201: 0.49684691429138184\n",
            "Loss @ time 202: 0.5604057908058167\n",
            "Loss @ time 203: 0.6143202185630798\n",
            "Loss @ time 204: 0.5881744623184204\n",
            "Loss @ time 205: 0.5283321142196655\n",
            "Loss @ time 206: 0.45830658078193665\n",
            "Loss @ time 207: 0.4083470106124878\n",
            "Loss @ time 208: 0.369566947221756\n",
            "Loss @ time 209: 0.3276158273220062\n",
            "Loss @ time 210: 0.3042934536933899\n",
            "Loss @ time 211: 0.32497578859329224\n",
            "Loss @ time 212: 0.38540637493133545\n",
            "Loss @ time 213: 0.45319706201553345\n",
            "Loss @ time 214: 0.4792826175689697\n",
            "Loss @ time 215: 0.45673564076423645\n",
            "Loss @ time 216: 0.40043404698371887\n",
            "Loss @ time 217: 0.34865161776542664\n",
            "Loss @ time 218: 0.3258054852485657\n",
            "Loss @ time 219: 0.31442326307296753\n",
            "Loss @ time 220: 0.30158331990242004\n",
            "Loss @ time 221: 0.29555946588516235\n",
            "Loss @ time 222: 0.30948320031166077\n",
            "Loss @ time 223: 0.3414347171783447\n",
            "Loss @ time 224: 0.3713696599006653\n",
            "Loss @ time 225: 0.39518073201179504\n",
            "Loss @ time 226: 0.38661354780197144\n",
            "Loss @ time 227: 0.36399781703948975\n",
            "Loss @ time 228: 0.33393919467926025\n",
            "Loss @ time 229: 0.3129146695137024\n",
            "Loss @ time 230: 0.3020463287830353\n",
            "Loss @ time 231: 0.2935120463371277\n",
            "Loss @ time 232: 0.2900004982948303\n",
            "Loss @ time 233: 0.2982718348503113\n",
            "Loss @ time 234: 0.31942829489707947\n",
            "Loss @ time 235: 0.348749577999115\n",
            "Loss @ time 236: 0.3739071786403656\n",
            "Loss @ time 237: 0.38925397396087646\n",
            "Loss @ time 238: 0.39554429054260254\n",
            "Loss @ time 239: 0.39468517899513245\n",
            "Loss @ time 240: 0.39157408475875854\n",
            "Loss @ time 241: 0.3728898763656616\n",
            "Loss @ time 242: 0.3478156626224518\n",
            "Loss @ time 243: 0.3126824200153351\n",
            "Loss @ time 244: 0.2864629626274109\n",
            "Loss @ time 245: 0.27465856075286865\n",
            "Loss @ time 246: 0.2762967050075531\n",
            "Loss @ time 247: 0.28471073508262634\n",
            "Loss @ time 248: 0.2969946265220642\n",
            "Loss @ time 249: 0.3135892152786255\n",
            "Loss @ time 250: 0.32655590772628784\n",
            "Loss @ time 251: 0.33881092071533203\n",
            "Loss @ time 252: 0.3500300347805023\n",
            "Loss @ time 253: 0.3624719977378845\n",
            "Loss @ time 254: 0.374673455953598\n",
            "Loss @ time 255: 0.3859642446041107\n",
            "Loss @ time 256: 0.39315736293792725\n",
            "Loss @ time 257: 0.4020234942436218\n",
            "Loss @ time 258: 0.40100204944610596\n",
            "Loss @ time 259: 0.3947093188762665\n",
            "Loss @ time 260: 0.374948114156723\n",
            "Loss @ time 261: 0.3516761362552643\n",
            "Loss @ time 262: 0.3269980549812317\n",
            "Loss @ time 263: 0.30783611536026\n",
            "Loss @ time 264: 0.29471269249916077\n",
            "Loss @ time 265: 0.2861214280128479\n",
            "Loss @ time 266: 0.2796577215194702\n",
            "Loss @ time 267: 0.2761024236679077\n",
            "Loss @ time 268: 0.27404308319091797\n",
            "Loss @ time 269: 0.2734629511833191\n",
            "Loss @ time 270: 0.27294883131980896\n",
            "Loss @ time 271: 0.2730897068977356\n",
            "Loss @ time 272: 0.27377182245254517\n",
            "Loss @ time 273: 0.2749858498573303\n",
            "Loss @ time 274: 0.27613526582717896\n",
            "Loss @ time 275: 0.27885618805885315\n",
            "Loss @ time 276: 0.28467249870300293\n",
            "Loss @ time 277: 0.29563969373703003\n",
            "Loss @ time 278: 0.3156055212020874\n",
            "Loss @ time 279: 0.35309678316116333\n",
            "Loss @ time 280: 0.41539669036865234\n",
            "Loss @ time 281: 0.5352677702903748\n",
            "Loss @ time 282: 0.7106680274009705\n",
            "Loss @ time 283: 0.9628260135650635\n",
            "Loss @ time 284: 1.1062027215957642\n",
            "Loss @ time 285: 1.1366605758666992\n",
            "Loss @ time 286: 0.9354890584945679\n",
            "Loss @ time 287: 0.6025499105453491\n",
            "Loss @ time 288: 0.3422950804233551\n",
            "Loss @ time 289: 0.32048091292381287\n",
            "Loss @ time 290: 0.4809247553348541\n",
            "Loss @ time 291: 0.6473074555397034\n",
            "Loss @ time 292: 0.7053318023681641\n",
            "Loss @ time 293: 0.5809207558631897\n",
            "Loss @ time 294: 0.38931727409362793\n",
            "Loss @ time 295: 0.2983987033367157\n",
            "Loss @ time 296: 0.3521726131439209\n",
            "Loss @ time 297: 0.4496949017047882\n",
            "Loss @ time 298: 0.4655954837799072\n",
            "Loss @ time 299: 0.3792903423309326\n"
          ],
          "name": "stdout"
        }
      ]
    },
    {
      "cell_type": "markdown",
      "metadata": {
        "id": "Md4TtaoW1CyG"
      },
      "source": [
        "## Evaluating our Model\n",
        "\n",
        "Now that we've trained our network, let's look at how well we did. To do this, we will feed in a range of theta values and see how well our networks predictions line up with the ground truth dynamics of our system. We plot the original data in blue, and our neural networks fit in red."
      ]
    },
    {
      "cell_type": "code",
      "metadata": {
        "id": "kep9pA0Vsh8c",
        "colab": {
          "base_uri": "https://localhost:8080/",
          "height": 279
        },
        "outputId": "03385b07-f7db-4bc6-f465-b296613a2550"
      },
      "source": [
        "if optimizer is not None and L is not None:\n",
        "  theta_eval = torch.unsqueeze(torch.linspace(-3*np.pi, 3*np.pi, 10000), dim=1)\n",
        "  theta_ground = np.linspace(-2*np.pi, 2*np.pi, 100)\n",
        "  theta_dot_ground = u - m*g*l*np.sin(theta_ground)\n",
        "\n",
        "  # NOTE: some layers like batchnorm or dropout layers need to be turned\n",
        "  # off during evaluation and turned on during training. Calling model.eval()\n",
        "  # will do this for you. We do not use these types of layers here, but we\n",
        "  # call eval() here to demonstrate for potential future use. To go back to \"training\"\n",
        "  # mode, call model.train()\n",
        "  NN.eval()\n",
        "\n",
        "  # evaluate our network\n",
        "  theta_dot_eval = NN(theta_eval)\n",
        "\n",
        "  # plot our fit\n",
        "  plt.scatter(theta_ground, theta_dot_ground, s=6)\n",
        "  plt.plot(theta_eval, theta_dot_eval.data.numpy(), color='red', lw=1) # this is how to convert a pytorch tensor to a numpy array\n",
        "  plt.plot(np.linspace(-4*np.pi, 4*np.pi, 3), np.zeros(3), color='black', lw=1)\n",
        "  plt.xlim(-3*np.pi, 3*np.pi)\n",
        "  plt.xlabel('theta')\n",
        "  plt.ylabel('theta_dot')"
      ],
      "execution_count": 23,
      "outputs": [
        {
          "output_type": "display_data",
          "data": {
            "image/png": "[encoded data removed]",
            "text/plain": [
              "<Figure size 432x288 with 1 Axes>"
            ]
          },
          "metadata": {
            "tags": [],
            "needs_background": "light"
          }
        }
      ]
    },
    {
      "cell_type": "markdown",
      "metadata": {
        "id": "44cLk3K6x4ZY"
      },
      "source": [
        "## Written questions\n",
        "\n",
        "Answer these written exercises in a pdf (preferably latex) and upload it gradescope.\n",
        "\n",
        "1) Within the range $\\theta \\in [-5.0, 5.0]$, which values of $(\\theta, \\dot \\theta)$ represent fixed points? Which fixed points are stable and which are unstable?\n",
        "\n",
        "2) What is one reason why our model might not fit the ground truth data exactly?\n",
        "\n",
        "3) Does our model give us a reasonable approximation of the dynamics for all $(\\theta, \\dot \\theta)$ pairs? Why or why not?"
      ]
    },
    {
      "cell_type": "markdown",
      "metadata": {
        "id": "w-T-a5gAh3OH"
      },
      "source": [
        "## How Will this Notebook Be Graded?\n",
        "If you are enrolled in the class, this notebook will be graded using [Gradescope](https://www.gradescope.com).\n",
        "We will send you the details of how to access the course page in Gradescope by email.\n",
        "\n",
        "We will replicate your work by running your notebook and checking that the final loss value is within a reasonable range.\n",
        "\n",
        "You will get full score if the following test succeeds:\n",
        "- Training runs and the final loss value is within a reasonable range of the value we are generating.\n",
        "\n",
        "This should hold if you define your network appropriately, and choose the right optimizer/loss."
      ]
    },
    {
      "cell_type": "code",
      "metadata": {
        "id": "TgUjMUG_h3OI",
        "colab": {
          "base_uri": "https://localhost:8080/"
        },
        "outputId": "24f9941a-ce48-4245-91f2-8eaccfbed378"
      },
      "source": [
        "from underactuated.exercises.pend.learning_dynamics.test_learning_dynamics import TestLearningDynamics\n",
        "from underactuated.exercises.grader import Grader\n",
        "Grader.grade_output([TestLearningDynamics], [locals()], 'results.json')\n",
        "Grader.print_test_results('results.json')"
      ],
      "execution_count": 24,
      "outputs": [
        {
          "output_type": "stream",
          "text": [
            "Total score is 5/5.\n",
            "\n",
            "Score for Test dynamics model training is 5/5.\n"
          ],
          "name": "stdout"
        }
      ]
    }
  ]
}